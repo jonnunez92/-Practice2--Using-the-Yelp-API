{
 "cells": [
  {
   "cell_type": "markdown",
   "id": "23c07d23",
   "metadata": {},
   "source": [
    "# Assignment\n",
    "\n",
    "- Use your API credentials to access the the Yelp api\n",
    "- You can choose the location and search term (food), but it must return more than 20 results so you can practice pagination!\n",
    "- Save the businesses as a records-oriented JSON file. (df.to_json(orient='records'))\n",
    "- Obtain ONLY the first two pages of results\n",
    "- Concatenate the results into one data frame"
   ]
  },
  {
   "cell_type": "code",
   "execution_count": 39,
   "id": "00a4adf3",
   "metadata": {},
   "outputs": [
    {
     "data": {
      "text/plain": [
       "dict_keys(['client-id', 'api-key'])"
      ]
     },
     "execution_count": 39,
     "metadata": {},
     "output_type": "execute_result"
    }
   ],
   "source": [
    "import json\n",
    "with open('/Users/jonnu/.secret/yelp_api.json') as f:\n",
    "    login = json.load(f)\n",
    "login.keys()"
   ]
  },
  {
   "cell_type": "code",
   "execution_count": 40,
   "id": "da2a63ce",
   "metadata": {},
   "outputs": [
    {
     "data": {
      "text/plain": [
       "<yelpapi.yelpapi.YelpAPI at 0x24d15d6eb80>"
      ]
     },
     "execution_count": 40,
     "metadata": {},
     "output_type": "execute_result"
    }
   ],
   "source": [
    "# import the YelpAPI Class\n",
    "from yelpapi import YelpAPI\n",
    "# Create an instance with your key\n",
    "yelp_api = YelpAPI(login['api-key'], timeout_s=5.0)\n",
    "yelp_api"
   ]
  },
  {
   "cell_type": "code",
   "execution_count": 41,
   "id": "a7a67382",
   "metadata": {},
   "outputs": [
    {
     "name": "stdout",
     "output_type": "stream",
     "text": [
      "<class 'dict'>\n"
     ]
    },
    {
     "data": {
      "text/plain": [
       "dict_keys(['businesses', 'total', 'region'])"
      ]
     },
     "execution_count": 41,
     "metadata": {},
     "output_type": "execute_result"
    }
   ],
   "source": [
    "# use our yelp_api variable's search_query method to perform our API call\n",
    "search_results = yelp_api.search_query(location='San Antonio, TX',\n",
    "                                       term='Tacos')\n",
    "print(type(search_results))\n",
    "search_results.keys()"
   ]
  },
  {
   "cell_type": "code",
   "execution_count": 8,
   "id": "f0ef64c4",
   "metadata": {},
   "outputs": [
    {
     "data": {
      "text/plain": [
       "3100"
      ]
     },
     "execution_count": 8,
     "metadata": {},
     "output_type": "execute_result"
    }
   ],
   "source": [
    "search_results['total']"
   ]
  },
  {
   "cell_type": "code",
   "execution_count": 9,
   "id": "40787a8e",
   "metadata": {},
   "outputs": [
    {
     "data": {
      "text/plain": [
       "20"
      ]
     },
     "execution_count": 9,
     "metadata": {},
     "output_type": "execute_result"
    }
   ],
   "source": [
    "len(search_results['businesses'])"
   ]
  },
  {
   "cell_type": "code",
   "execution_count": 27,
   "id": "3e9f272d",
   "metadata": {
    "scrolled": true
   },
   "outputs": [
    {
     "data": {
      "text/html": [
       "<div>\n",
       "<style scoped>\n",
       "    .dataframe tbody tr th:only-of-type {\n",
       "        vertical-align: middle;\n",
       "    }\n",
       "\n",
       "    .dataframe tbody tr th {\n",
       "        vertical-align: top;\n",
       "    }\n",
       "\n",
       "    .dataframe thead th {\n",
       "        text-align: right;\n",
       "    }\n",
       "</style>\n",
       "<table border=\"1\" class=\"dataframe\">\n",
       "  <thead>\n",
       "    <tr style=\"text-align: right;\">\n",
       "      <th></th>\n",
       "      <th>id</th>\n",
       "      <th>alias</th>\n",
       "      <th>name</th>\n",
       "      <th>image_url</th>\n",
       "      <th>is_closed</th>\n",
       "      <th>url</th>\n",
       "      <th>review_count</th>\n",
       "      <th>categories</th>\n",
       "      <th>rating</th>\n",
       "      <th>coordinates</th>\n",
       "      <th>transactions</th>\n",
       "      <th>price</th>\n",
       "      <th>location</th>\n",
       "      <th>phone</th>\n",
       "      <th>display_phone</th>\n",
       "      <th>distance</th>\n",
       "    </tr>\n",
       "  </thead>\n",
       "  <tbody>\n",
       "    <tr>\n",
       "      <th>0</th>\n",
       "      <td>fD626-6wEZgfGP2YT3wSIA</td>\n",
       "      <td>taquitos-west-ave-san-antonio</td>\n",
       "      <td>Taquitos West Ave</td>\n",
       "      <td>https://s3-media2.fl.yelpcdn.com/bphoto/yWNgVE...</td>\n",
       "      <td>False</td>\n",
       "      <td>https://www.yelp.com/biz/taquitos-west-ave-san...</td>\n",
       "      <td>755</td>\n",
       "      <td>[{'alias': 'mexican', 'title': 'Mexican'}]</td>\n",
       "      <td>4.5</td>\n",
       "      <td>{'latitude': 29.48637, 'longitude': -98.52573}</td>\n",
       "      <td>[delivery]</td>\n",
       "      <td>$</td>\n",
       "      <td>{'address1': '2818 West Ave', 'address2': None...</td>\n",
       "      <td>+12105259888</td>\n",
       "      <td>(210) 525-9888</td>\n",
       "      <td>1118.116301</td>\n",
       "    </tr>\n",
       "    <tr>\n",
       "      <th>1</th>\n",
       "      <td>j2Ym1bd-tRyM-G5qXZ1yCw</td>\n",
       "      <td>petes-tako-house-san-antonio</td>\n",
       "      <td>Pete's Tako House</td>\n",
       "      <td>https://s3-media1.fl.yelpcdn.com/bphoto/EzV5R6...</td>\n",
       "      <td>False</td>\n",
       "      <td>https://www.yelp.com/biz/petes-tako-house-san-...</td>\n",
       "      <td>1297</td>\n",
       "      <td>[{'alias': 'breakfast_brunch', 'title': 'Break...</td>\n",
       "      <td>4.5</td>\n",
       "      <td>{'latitude': 29.4328575134277, 'longitude': -9...</td>\n",
       "      <td>[delivery, pickup]</td>\n",
       "      <td>$</td>\n",
       "      <td>{'address1': '502 Brooklyn Ave', 'address2': '...</td>\n",
       "      <td>+12102242911</td>\n",
       "      <td>(210) 224-2911</td>\n",
       "      <td>6094.469626</td>\n",
       "    </tr>\n",
       "  </tbody>\n",
       "</table>\n",
       "</div>"
      ],
      "text/plain": [
       "                       id                          alias               name  \\\n",
       "0  fD626-6wEZgfGP2YT3wSIA  taquitos-west-ave-san-antonio  Taquitos West Ave   \n",
       "1  j2Ym1bd-tRyM-G5qXZ1yCw   petes-tako-house-san-antonio  Pete's Tako House   \n",
       "\n",
       "                                           image_url  is_closed  \\\n",
       "0  https://s3-media2.fl.yelpcdn.com/bphoto/yWNgVE...      False   \n",
       "1  https://s3-media1.fl.yelpcdn.com/bphoto/EzV5R6...      False   \n",
       "\n",
       "                                                 url  review_count  \\\n",
       "0  https://www.yelp.com/biz/taquitos-west-ave-san...           755   \n",
       "1  https://www.yelp.com/biz/petes-tako-house-san-...          1297   \n",
       "\n",
       "                                          categories  rating  \\\n",
       "0         [{'alias': 'mexican', 'title': 'Mexican'}]     4.5   \n",
       "1  [{'alias': 'breakfast_brunch', 'title': 'Break...     4.5   \n",
       "\n",
       "                                         coordinates        transactions  \\\n",
       "0     {'latitude': 29.48637, 'longitude': -98.52573}          [delivery]   \n",
       "1  {'latitude': 29.4328575134277, 'longitude': -9...  [delivery, pickup]   \n",
       "\n",
       "  price                                           location         phone  \\\n",
       "0     $  {'address1': '2818 West Ave', 'address2': None...  +12105259888   \n",
       "1     $  {'address1': '502 Brooklyn Ave', 'address2': '...  +12102242911   \n",
       "\n",
       "    display_phone     distance  \n",
       "0  (210) 525-9888  1118.116301  \n",
       "1  (210) 224-2911  6094.469626  "
      ]
     },
     "execution_count": 27,
     "metadata": {},
     "output_type": "execute_result"
    }
   ],
   "source": [
    "df = pd.DataFrame(search_results['businesses'])\n",
    "df.head(2)"
   ]
  },
  {
   "cell_type": "code",
   "execution_count": 28,
   "id": "1705b0a1",
   "metadata": {},
   "outputs": [],
   "source": [
    "df_json = df.to_json(orient='records')"
   ]
  },
  {
   "cell_type": "code",
   "execution_count": 29,
   "id": "d87c9f9f",
   "metadata": {},
   "outputs": [],
   "source": [
    "## save dict to json file with json.dump\n",
    "with open('Data/satx_taco_businesses.json','w') as f:\n",
    "    json.dump(df_json, f)"
   ]
  },
  {
   "cell_type": "code",
   "execution_count": 30,
   "id": "bf3d9f9a",
   "metadata": {
    "scrolled": true
   },
   "outputs": [
    {
     "data": {
      "text/plain": [
       "'[{\"id\":\"fD626-6wEZgfGP2YT3wSIA\",\"alias\":\"taquitos-west-ave-san-antonio\",\"name\":\"Taquitos West Ave\",\"image_url\":\"https:\\\\/\\\\/s3-media2.fl.yelpcdn.com\\\\/bphoto\\\\/yWNgVERIvsHrDCjJ_un-mA\\\\/o.jpg\",\"is_closed\":false,\"url\":\"https:\\\\/\\\\/www.yelp.com\\\\/biz\\\\/taquitos-west-ave-san-antonio?adjust_creative=5hTEU0JKX2n1SX6YJ50Ibg&utm_campaign=yelp_api_v3&utm_medium=api_v3_business_search&utm_source=5hTEU0JKX2n1SX6YJ50Ibg\",\"review_count\":755,\"categories\":[{\"alias\":\"mexican\",\"title\":\"Mexican\"}],\"rating\":4.5,\"coordinates\":{\"latitude\":29.48637,\"longitude\":-98.52573},\"transactions\":[\"delivery\"],\"price\":\"$\",\"location\":{\"address1\":\"2818 West Ave\",\"address2\":null,\"address3\":null,\"city\":\"San Antonio\",\"zip_code\":\"78201\",\"country\":\"US\",\"state\":\"TX\",\"display_address\":[\"2818 West Ave\",\"San Antonio, TX 78201\"]},\"phone\":\"+12105259888\",\"display_phone\":\"(210) 525-9888\",\"distance\":1118.1163008414},{\"id\":\"j2Ym1bd-tRyM-G5qXZ1yCw\",\"alias\":\"petes-tako-house-san-antonio\",\"name\":\"Pete\\'s Tako House\",\"image_url\":\"https:\\\\/\\\\/s3-media1.fl.yelpcdn.com\\\\/bphoto\\\\/EzV5R6m3kWJCMgUjYUxsew\\\\/o.jpg\",\"is_closed\":false,\"url\":\"https:\\\\/\\\\/www.yelp.com\\\\/biz\\\\/petes-tako-house-san-antonio?adjust_creative=5hTEU0JKX2n1SX6YJ50Ibg&utm_campaign=yelp_api_v3&utm_medium=api_v3_business_search&utm_source=5hTEU0JKX2n1SX6YJ50Ibg\",\"review_count\":1297,\"categories\":[{\"alias\":\"breakfast_brunch\",\"title\":\"Breakfast & Brunch\"},{\"alias\":\"tacos\",\"title\":\"Tacos\"},{\"alias\":\"tex-mex\",\"title\":\"Tex-Mex\"}],\"rating\":4.5,\"coordinates\":{\"latitude\":29.4328575134,\"longitude\":-98.4843139648},\"transactions\":[\"delivery\",\"pickup\"],\"price\":\"$\",\"location\":{\"address1\":\"502 Brooklyn Ave\",\"address2\":\"\",\"address3\":\"\",\"city\":\"San Antonio\",\"zip_code\":\"78215\",\"country\":\"US\",\"state\":\"TX\",\"display_address\":[\"502 Brooklyn Ave\",\"San Antonio, TX 78215\"]},\"phone\":\"+12102242911\",\"display_phone\":\"(210) 224-2911\",\"distance\":6094.4696257163},{\"id\":\"zulD0Ns_524wMuCAFlXxRA\",\"alias\":\"tlahco-mexican-kitchen-san-antonio\",\"name\":\"Tlahco Mexican kitchen\",\"image_url\":\"https:\\\\/\\\\/s3-media4.fl.yelpcdn.com\\\\/bphoto\\\\/PAEto8-0Fj1Lq9TdeiP54w\\\\/o.jpg\",\"is_closed\":false,\"url\":\"https:\\\\/\\\\/www.yelp.com\\\\/biz\\\\/tlahco-mexican-kitchen-san-antonio?adjust_creative=5hTEU0JKX2n1SX6YJ50Ibg&utm_campaign=yelp_api_v3&utm_medium=api_v3_business_search&utm_source=5hTEU0JKX2n1SX6YJ50Ibg\",\"review_count\":755,\"categories\":[{\"alias\":\"mexican\",\"title\":\"Mexican\"}],\"rating\":4.5,\"coordinates\":{\"latitude\":29.5006724654,\"longitude\":-98.498931111},\"transactions\":[\"delivery\",\"pickup\"],\"price\":\"$$\",\"location\":{\"address1\":\"6702 San Pedro Ave\",\"address2\":\"\",\"address3\":null,\"city\":\"San Antonio\",\"zip_code\":\"78216\",\"country\":\"US\",\"state\":\"TX\",\"display_address\":[\"6702 San Pedro Ave\",\"San Antonio, TX 78216\"]},\"phone\":\"+12104550135\",\"display_phone\":\"(210) 455-0135\",\"distance\":2931.0332689355},{\"id\":\"Omclc_9AiOvb2gCEQSHLjg\",\"alias\":\"tacos-vitali-san-antonio-2\",\"name\":\"Tacos Vitali\",\"image_url\":\"https:\\\\/\\\\/s3-media1.fl.yelpcdn.com\\\\/bphoto\\\\/PJq-W19u-LN-qAUOo1iXcQ\\\\/o.jpg\",\"is_closed\":false,\"url\":\"https:\\\\/\\\\/www.yelp.com\\\\/biz\\\\/tacos-vitali-san-antonio-2?adjust_creative=5hTEU0JKX2n1SX6YJ50Ibg&utm_campaign=yelp_api_v3&utm_medium=api_v3_business_search&utm_source=5hTEU0JKX2n1SX6YJ50Ibg\",\"review_count\":56,\"categories\":[{\"alias\":\"mexican\",\"title\":\"Mexican\"}],\"rating\":4.0,\"coordinates\":{\"latitude\":29.546764447,\"longitude\":-98.614509738},\"transactions\":[],\"price\":\"$$\",\"location\":{\"address1\":\"6433 Babcock Rd\",\"address2\":\"\",\"address3\":null,\"city\":\"San Antonio\",\"zip_code\":\"78249\",\"country\":\"US\",\"state\":\"TX\",\"display_address\":[\"6433 Babcock Rd\",\"San Antonio, TX 78249\"]},\"phone\":\"\",\"display_phone\":\"\",\"distance\":12020.9511047924},{\"id\":\"jJQBNqgL4pz4xg4KqZd37w\",\"alias\":\"taqueria-el-trompo-san-antonio\",\"name\":\"Taqueria El Trompo\",\"image_url\":\"https:\\\\/\\\\/s3-media3.fl.yelpcdn.com\\\\/bphoto\\\\/Mehe4piZ-ypeseoLIflUQw\\\\/o.jpg\",\"is_closed\":false,\"url\":\"https:\\\\/\\\\/www.yelp.com\\\\/biz\\\\/taqueria-el-trompo-san-antonio?adjust_creative=5hTEU0JKX2n1SX6YJ50Ibg&utm_campaign=yelp_api_v3&utm_medium=api_v3_business_search&utm_source=5hTEU0JKX2n1SX6YJ50Ibg\",\"review_count\":230,\"categories\":[{\"alias\":\"mexican\",\"title\":\"Mexican\"}],\"rating\":4.5,\"coordinates\":{\"latitude\":29.5096948825,\"longitude\":-98.5549414889},\"transactions\":[],\"price\":\"$$\",\"location\":{\"address1\":\"7863 Callaghan Rd\",\"address2\":\"Ste 108\",\"address3\":\"\",\"city\":\"San Antonio\",\"zip_code\":\"78229\",\"country\":\"US\",\"state\":\"TX\",\"display_address\":[\"7863 Callaghan Rd\",\"Ste 108\",\"San Antonio, TX 78229\"]},\"phone\":\"+12106268032\",\"display_phone\":\"(210) 626-8032\",\"distance\":4956.083578255},{\"id\":\"u9Ify8qoQbfVCbvSHsZQXQ\",\"alias\":\"little-taco-factory-mexican-restaurant-san-antonio\",\"name\":\"Little Taco Factory Mexican Restaurant\",\"image_url\":\"https:\\\\/\\\\/s3-media3.fl.yelpcdn.com\\\\/bphoto\\\\/7oI4-vz4OPBvqSksuYIo2Q\\\\/o.jpg\",\"is_closed\":false,\"url\":\"https:\\\\/\\\\/www.yelp.com\\\\/biz\\\\/little-taco-factory-mexican-restaurant-san-antonio?adjust_creative=5hTEU0JKX2n1SX6YJ50Ibg&utm_campaign=yelp_api_v3&utm_medium=api_v3_business_search&utm_source=5hTEU0JKX2n1SX6YJ50Ibg\",\"review_count\":85,\"categories\":[{\"alias\":\"mexican\",\"title\":\"Mexican\"}],\"rating\":4.5,\"coordinates\":{\"latitude\":29.4431867,\"longitude\":-98.4917251},\"transactions\":[\"delivery\"],\"price\":\"$\",\"location\":{\"address1\":\"1510 McCullough Ave\",\"address2\":\"\",\"address3\":\"\",\"city\":\"San Antonio\",\"zip_code\":\"78212\",\"country\":\"US\",\"state\":\"TX\",\"display_address\":[\"1510 McCullough Ave\",\"San Antonio, TX 78212\"]},\"phone\":\"+12102275657\",\"display_phone\":\"(210) 227-5657\",\"distance\":4749.907536777},{\"id\":\"n5IbGaH3fFA4ICNZG2H9QA\",\"alias\":\"el-buen-paladar-san-antonio-2\",\"name\":\"El Buen Paladar\",\"image_url\":\"https:\\\\/\\\\/s3-media1.fl.yelpcdn.com\\\\/bphoto\\\\/OZEkzVoJyLG4U2q6ookAiA\\\\/o.jpg\",\"is_closed\":false,\"url\":\"https:\\\\/\\\\/www.yelp.com\\\\/biz\\\\/el-buen-paladar-san-antonio-2?adjust_creative=5hTEU0JKX2n1SX6YJ50Ibg&utm_campaign=yelp_api_v3&utm_medium=api_v3_business_search&utm_source=5hTEU0JKX2n1SX6YJ50Ibg\",\"review_count\":20,\"categories\":[{\"alias\":\"foodtrucks\",\"title\":\"Food Trucks\"},{\"alias\":\"mexican\",\"title\":\"Mexican\"},{\"alias\":\"salvadoran\",\"title\":\"Salvadoran\"}],\"rating\":5.0,\"coordinates\":{\"latitude\":29.43069,\"longitude\":-98.73276},\"transactions\":[\"delivery\"],\"price\":null,\"location\":{\"address1\":\"12135 Potranco Rd\",\"address2\":\"\",\"address3\":\"\",\"city\":\"San Antonio\",\"zip_code\":\"78253\",\"country\":\"US\",\"state\":\"TX\",\"display_address\":[\"12135 Potranco Rd\",\"San Antonio, TX 78253\"]},\"phone\":\"+12107246475\",\"display_phone\":\"(210) 724-6475\",\"distance\":21569.7996908021},{\"id\":\"Qd65SyBUdtfaZbu2hTbFQQ\",\"alias\":\"tacos-n-salsa-san-antonio-3\",\"name\":\"Tacos N Salsa\",\"image_url\":\"https:\\\\/\\\\/s3-media2.fl.yelpcdn.com\\\\/bphoto\\\\/AoQJmR3o_CDlrcgS6iyDcQ\\\\/o.jpg\",\"is_closed\":false,\"url\":\"https:\\\\/\\\\/www.yelp.com\\\\/biz\\\\/tacos-n-salsa-san-antonio-3?adjust_creative=5hTEU0JKX2n1SX6YJ50Ibg&utm_campaign=yelp_api_v3&utm_medium=api_v3_business_search&utm_source=5hTEU0JKX2n1SX6YJ50Ibg\",\"review_count\":448,\"categories\":[{\"alias\":\"mexican\",\"title\":\"Mexican\"}],\"rating\":4.5,\"coordinates\":{\"latitude\":29.59298,\"longitude\":-98.58603},\"transactions\":[\"delivery\",\"pickup\"],\"price\":\"$\",\"location\":{\"address1\":\"5123 N Loop 1604 W\",\"address2\":\"\",\"address3\":\"\",\"city\":\"San Antonio\",\"zip_code\":\"78249\",\"country\":\"US\",\"state\":\"TX\",\"display_address\":[\"5123 N Loop 1604 W\",\"San Antonio, TX 78249\"]},\"phone\":\"+12104087878\",\"display_phone\":\"(210) 408-7878\",\"distance\":14275.552229618},{\"id\":\"-JaeyzPPLZfVhqbvs_6ZfQ\",\"alias\":\"terans-restaurant-san-antonio\",\"name\":\"Teran\\'s Restaurant\",\"image_url\":\"https:\\\\/\\\\/s3-media1.fl.yelpcdn.com\\\\/bphoto\\\\/YefE33N95cfXgZxJsAbkxw\\\\/o.jpg\",\"is_closed\":false,\"url\":\"https:\\\\/\\\\/www.yelp.com\\\\/biz\\\\/terans-restaurant-san-antonio?adjust_creative=5hTEU0JKX2n1SX6YJ50Ibg&utm_campaign=yelp_api_v3&utm_medium=api_v3_business_search&utm_source=5hTEU0JKX2n1SX6YJ50Ibg\",\"review_count\":54,\"categories\":[{\"alias\":\"mexican\",\"title\":\"Mexican\"}],\"rating\":4.5,\"coordinates\":{\"latitude\":29.42469,\"longitude\":-98.40901},\"transactions\":[],\"price\":\"$\",\"location\":{\"address1\":\"4403 E Houston St\",\"address2\":\"\",\"address3\":\"\",\"city\":\"San Antonio\",\"zip_code\":\"78220\",\"country\":\"US\",\"state\":\"TX\",\"display_address\":[\"4403 E Houston St\",\"San Antonio, TX 78220\"]},\"phone\":\"+12103336470\",\"display_phone\":\"(210) 333-6470\",\"distance\":12121.204447673},{\"id\":\"62rv8KQaduDNpTAOxSD1NA\",\"alias\":\"tacos-and-chelas-mexican-kitchen-san-antonio\",\"name\":\"Tacos and Chelas Mexican Kitchen\",\"image_url\":\"https:\\\\/\\\\/s3-media1.fl.yelpcdn.com\\\\/bphoto\\\\/nDbKGhQnUzrunb2yx0vulA\\\\/o.jpg\",\"is_closed\":false,\"url\":\"https:\\\\/\\\\/www.yelp.com\\\\/biz\\\\/tacos-and-chelas-mexican-kitchen-san-antonio?adjust_creative=5hTEU0JKX2n1SX6YJ50Ibg&utm_campaign=yelp_api_v3&utm_medium=api_v3_business_search&utm_source=5hTEU0JKX2n1SX6YJ50Ibg\",\"review_count\":418,\"categories\":[{\"alias\":\"mexican\",\"title\":\"Mexican\"},{\"alias\":\"seafood\",\"title\":\"Seafood\"},{\"alias\":\"breakfast_brunch\",\"title\":\"Breakfast & Brunch\"}],\"rating\":4.0,\"coordinates\":{\"latitude\":29.435665,\"longitude\":-98.686426},\"transactions\":[\"delivery\",\"pickup\"],\"price\":\"$$\",\"location\":{\"address1\":\"9902 Potranco Rd\",\"address2\":null,\"address3\":\"\",\"city\":\"San Antonio\",\"zip_code\":\"78251\",\"country\":\"US\",\"state\":\"TX\",\"display_address\":[\"9902 Potranco Rd\",\"San Antonio, TX 78251\"]},\"phone\":\"+12103849145\",\"display_phone\":\"(210) 384-9145\",\"distance\":17101.0823070944},{\"id\":\"rdS0lhi4QylN_j8v7p7Ciw\",\"alias\":\"el-pastor-es-mi-se\\\\u00f1or-san-antonio\",\"name\":\"El Pastor Es Mi Se\\\\u00f1or\",\"image_url\":\"https:\\\\/\\\\/s3-media2.fl.yelpcdn.com\\\\/bphoto\\\\/9wcKRL1a-9OrnDphgJNLWQ\\\\/o.jpg\",\"is_closed\":false,\"url\":\"https:\\\\/\\\\/www.yelp.com\\\\/biz\\\\/el-pastor-es-mi-se%C3%B1or-san-antonio?adjust_creative=5hTEU0JKX2n1SX6YJ50Ibg&utm_campaign=yelp_api_v3&utm_medium=api_v3_business_search&utm_source=5hTEU0JKX2n1SX6YJ50Ibg\",\"review_count\":97,\"categories\":[{\"alias\":\"tacos\",\"title\":\"Tacos\"}],\"rating\":4.0,\"coordinates\":{\"latitude\":29.5245238194,\"longitude\":-98.5702573436},\"transactions\":[\"delivery\"],\"price\":null,\"location\":{\"address1\":\"8727 Wurzbach\",\"address2\":null,\"address3\":\"\",\"city\":\"San Antonio\",\"zip_code\":\"78240\",\"country\":\"US\",\"state\":\"TX\",\"display_address\":[\"8727 Wurzbach\",\"San Antonio, TX 78240\"]},\"phone\":\"+12104793474\",\"display_phone\":\"(210) 479-3474\",\"distance\":7165.7309298261},{\"id\":\"S4Ws2asSDvvSKZ_LKJGNmg\",\"alias\":\"tacos-n-salsa-san-antonio-8\",\"name\":\"Tacos N Salsa\",\"image_url\":\"https:\\\\/\\\\/s3-media1.fl.yelpcdn.com\\\\/bphoto\\\\/aCYXtgVLZwz_j_0x03a0PQ\\\\/o.jpg\",\"is_closed\":false,\"url\":\"https:\\\\/\\\\/www.yelp.com\\\\/biz\\\\/tacos-n-salsa-san-antonio-8?adjust_creative=5hTEU0JKX2n1SX6YJ50Ibg&utm_campaign=yelp_api_v3&utm_medium=api_v3_business_search&utm_source=5hTEU0JKX2n1SX6YJ50Ibg\",\"review_count\":89,\"categories\":[{\"alias\":\"mexican\",\"title\":\"Mexican\"}],\"rating\":4.5,\"coordinates\":{\"latitude\":29.537906,\"longitude\":-98.584285},\"transactions\":[\"delivery\",\"pickup\"],\"price\":\"$\",\"location\":{\"address1\":\"10222 Huebner Rd\",\"address2\":\"Ste 108\",\"address3\":\"\",\"city\":\"San Antonio\",\"zip_code\":\"78240\",\"country\":\"US\",\"state\":\"TX\",\"display_address\":[\"10222 Huebner Rd\",\"Ste 108\",\"San Antonio, TX 78240\"]},\"phone\":\"+12104517301\",\"display_phone\":\"(210) 451-7301\",\"distance\":9190.3287578718},{\"id\":\"4PQ_B6QiGuKa9rJrpeV6kQ\",\"alias\":\"garcias-mexican-food-san-antonio\",\"name\":\"Garcia\\'s Mexican Food\",\"image_url\":\"https:\\\\/\\\\/s3-media2.fl.yelpcdn.com\\\\/bphoto\\\\/uHB26X2PDUDSt6dZ0xvjgA\\\\/o.jpg\",\"is_closed\":false,\"url\":\"https:\\\\/\\\\/www.yelp.com\\\\/biz\\\\/garcias-mexican-food-san-antonio?adjust_creative=5hTEU0JKX2n1SX6YJ50Ibg&utm_campaign=yelp_api_v3&utm_medium=api_v3_business_search&utm_source=5hTEU0JKX2n1SX6YJ50Ibg\",\"review_count\":271,\"categories\":[{\"alias\":\"breakfast_brunch\",\"title\":\"Breakfast & Brunch\"},{\"alias\":\"tacos\",\"title\":\"Tacos\"},{\"alias\":\"tex-mex\",\"title\":\"Tex-Mex\"}],\"rating\":4.5,\"coordinates\":{\"latitude\":29.451715,\"longitude\":-98.513298},\"transactions\":[\"delivery\"],\"price\":\"$\",\"location\":{\"address1\":\"842 Fredericksburg Rd\",\"address2\":\"\",\"address3\":\"\",\"city\":\"San Antonio\",\"zip_code\":\"78201\",\"country\":\"US\",\"state\":\"TX\",\"display_address\":[\"842 Fredericksburg Rd\",\"San Antonio, TX 78201\"]},\"phone\":\"+12107355686\",\"display_phone\":\"(210) 735-5686\",\"distance\":3123.0955687187},{\"id\":\"ye4Aq-Pg9wxe_79CKe6Pzg\",\"alias\":\"tacos-don-manolito-san-antonio\",\"name\":\"Tacos Don Manolito\",\"image_url\":\"https:\\\\/\\\\/s3-media3.fl.yelpcdn.com\\\\/bphoto\\\\/pB4WCwr8r3iEd9IYOKIypg\\\\/o.jpg\",\"is_closed\":false,\"url\":\"https:\\\\/\\\\/www.yelp.com\\\\/biz\\\\/tacos-don-manolito-san-antonio?adjust_creative=5hTEU0JKX2n1SX6YJ50Ibg&utm_campaign=yelp_api_v3&utm_medium=api_v3_business_search&utm_source=5hTEU0JKX2n1SX6YJ50Ibg\",\"review_count\":24,\"categories\":[{\"alias\":\"tacos\",\"title\":\"Tacos\"},{\"alias\":\"newmexican\",\"title\":\"New Mexican Cuisine\"}],\"rating\":4.5,\"coordinates\":{\"latitude\":29.6432540152,\"longitude\":-98.4910637},\"transactions\":[\"delivery\",\"pickup\"],\"price\":null,\"location\":{\"address1\":\"19903 Stone Oak Pkwy\",\"address2\":\"Ste 101\",\"address3\":\"\",\"city\":\"San Antonio\",\"zip_code\":\"78258\",\"country\":\"US\",\"state\":\"TX\",\"display_address\":[\"19903 Stone Oak Pkwy\",\"Ste 101\",\"San Antonio, TX 78258\"]},\"phone\":\"+12102679096\",\"display_phone\":\"(210) 267-9096\",\"distance\":18369.6229481518},{\"id\":\"Z7Y_cKqgGj8vALst7khElw\",\"alias\":\"tacos-la-salsita-san-antonio-2\",\"name\":\"Tacos La Salsita\",\"image_url\":\"https:\\\\/\\\\/s3-media4.fl.yelpcdn.com\\\\/bphoto\\\\/OpnrfAh9LTj7bUB0btS6eQ\\\\/o.jpg\",\"is_closed\":false,\"url\":\"https:\\\\/\\\\/www.yelp.com\\\\/biz\\\\/tacos-la-salsita-san-antonio-2?adjust_creative=5hTEU0JKX2n1SX6YJ50Ibg&utm_campaign=yelp_api_v3&utm_medium=api_v3_business_search&utm_source=5hTEU0JKX2n1SX6YJ50Ibg\",\"review_count\":51,\"categories\":[{\"alias\":\"mexican\",\"title\":\"Mexican\"},{\"alias\":\"foodtrucks\",\"title\":\"Food Trucks\"}],\"rating\":5.0,\"coordinates\":{\"latitude\":29.4173752322,\"longitude\":-98.6603466435},\"transactions\":[\"delivery\"],\"price\":\"$\",\"location\":{\"address1\":\"8802 Marbach Rd\",\"address2\":\"\",\"address3\":\"\",\"city\":\"San Antonio\",\"zip_code\":\"78227\",\"country\":\"US\",\"state\":\"TX\",\"display_address\":[\"8802 Marbach Rd\",\"San Antonio, TX 78227\"]},\"phone\":\"\",\"display_phone\":\"\",\"distance\":15496.7631281448},{\"id\":\"crlclvawYdTxnVLm5_ED4g\",\"alias\":\"los-tacos-gueros-san-antonio\",\"name\":\"Los Tacos Gueros\",\"image_url\":\"https:\\\\/\\\\/s3-media1.fl.yelpcdn.com\\\\/bphoto\\\\/qjYv58YkH9IXp3_QsOS3vg\\\\/o.jpg\",\"is_closed\":false,\"url\":\"https:\\\\/\\\\/www.yelp.com\\\\/biz\\\\/los-tacos-gueros-san-antonio?adjust_creative=5hTEU0JKX2n1SX6YJ50Ibg&utm_campaign=yelp_api_v3&utm_medium=api_v3_business_search&utm_source=5hTEU0JKX2n1SX6YJ50Ibg\",\"review_count\":373,\"categories\":[{\"alias\":\"tacos\",\"title\":\"Tacos\"},{\"alias\":\"breakfast_brunch\",\"title\":\"Breakfast & Brunch\"}],\"rating\":4.5,\"coordinates\":{\"latitude\":29.6277350682,\"longitude\":-98.4934126285},\"transactions\":[\"delivery\"],\"price\":\"$\",\"location\":{\"address1\":\"20323 Huebner\",\"address2\":\"Ste 111\",\"address3\":\"\",\"city\":\"San Antonio\",\"zip_code\":\"78258\",\"country\":\"US\",\"state\":\"TX\",\"display_address\":[\"20323 Huebner\",\"Ste 111\",\"San Antonio, TX 78258\"]},\"phone\":\"+12104954300\",\"display_phone\":\"(210) 495-4300\",\"distance\":16629.1755530977},{\"id\":\"jjlFm8I3y0qo6mvs-iVnAQ\",\"alias\":\"taqueria-los-cuates-san-antonio-2\",\"name\":\"Taqueria Los Cuates\",\"image_url\":\"https:\\\\/\\\\/s3-media1.fl.yelpcdn.com\\\\/bphoto\\\\/sCclcsE0aU8ptbIOsFMrfQ\\\\/o.jpg\",\"is_closed\":false,\"url\":\"https:\\\\/\\\\/www.yelp.com\\\\/biz\\\\/taqueria-los-cuates-san-antonio-2?adjust_creative=5hTEU0JKX2n1SX6YJ50Ibg&utm_campaign=yelp_api_v3&utm_medium=api_v3_business_search&utm_source=5hTEU0JKX2n1SX6YJ50Ibg\",\"review_count\":45,\"categories\":[{\"alias\":\"tacos\",\"title\":\"Tacos\"}],\"rating\":4.5,\"coordinates\":{\"latitude\":29.4163721594,\"longitude\":-98.4886223558},\"transactions\":[],\"price\":\"$\",\"location\":{\"address1\":\"732 S Alamo St\",\"address2\":\"\",\"address3\":null,\"city\":\"San Antonio\",\"zip_code\":\"78205\",\"country\":\"US\",\"state\":\"TX\",\"display_address\":[\"732 S Alamo St\",\"San Antonio, TX 78205\"]},\"phone\":\"+12109995274\",\"display_phone\":\"(210) 999-5274\",\"distance\":7555.6450432953},{\"id\":\"1IRLA-Q2yDhmHDLdiVKyAA\",\"alias\":\"taquitos-and-panaderia-west-avenue-san-antonio\",\"name\":\"Taquitos & Panaderia West Avenue\",\"image_url\":\"https:\\\\/\\\\/s3-media1.fl.yelpcdn.com\\\\/bphoto\\\\/pN6uo9U6Ki9q3IULZ7v2kg\\\\/o.jpg\",\"is_closed\":false,\"url\":\"https:\\\\/\\\\/www.yelp.com\\\\/biz\\\\/taquitos-and-panaderia-west-avenue-san-antonio?adjust_creative=5hTEU0JKX2n1SX6YJ50Ibg&utm_campaign=yelp_api_v3&utm_medium=api_v3_business_search&utm_source=5hTEU0JKX2n1SX6YJ50Ibg\",\"review_count\":169,\"categories\":[{\"alias\":\"tacos\",\"title\":\"Tacos\"}],\"rating\":4.5,\"coordinates\":{\"latitude\":29.55623,\"longitude\":-98.39936},\"transactions\":[\"delivery\"],\"price\":\"$\",\"location\":{\"address1\":\"12734 Nacogdoches Rd\",\"address2\":\"\",\"address3\":null,\"city\":\"San Antonio\",\"zip_code\":\"78217\",\"country\":\"US\",\"state\":\"TX\",\"display_address\":[\"12734 Nacogdoches Rd\",\"San Antonio, TX 78217\"]},\"phone\":\"+12104449460\",\"display_phone\":\"(210) 444-9460\",\"distance\":14223.4946344785},{\"id\":\"ks_zJeDtKtM8VMmbyWcSUQ\",\"alias\":\"the-taco-place-san-antonio\",\"name\":\"The Taco Place\",\"image_url\":\"https:\\\\/\\\\/s3-media2.fl.yelpcdn.com\\\\/bphoto\\\\/NWtFOaY48HbH-qnx2LpGSw\\\\/o.jpg\",\"is_closed\":false,\"url\":\"https:\\\\/\\\\/www.yelp.com\\\\/biz\\\\/the-taco-place-san-antonio?adjust_creative=5hTEU0JKX2n1SX6YJ50Ibg&utm_campaign=yelp_api_v3&utm_medium=api_v3_business_search&utm_source=5hTEU0JKX2n1SX6YJ50Ibg\",\"review_count\":62,\"categories\":[{\"alias\":\"foodtrucks\",\"title\":\"Food Trucks\"},{\"alias\":\"mexican\",\"title\":\"Mexican\"}],\"rating\":4.5,\"coordinates\":{\"latitude\":29.5220275432,\"longitude\":-98.7079105406},\"transactions\":[],\"price\":\"$\",\"location\":{\"address1\":\"10915 Shaenfield Rd\",\"address2\":\"\",\"address3\":null,\"city\":\"San Antonio\",\"zip_code\":\"78254\",\"country\":\"US\",\"state\":\"TX\",\"display_address\":[\"10915 Shaenfield Rd\",\"San Antonio, TX 78254\"]},\"phone\":\"\",\"display_phone\":\"\",\"distance\":19054.1604005948},{\"id\":\"zocfjH-GTlxV1Dw4pqBiVw\",\"alias\":\"street-taco-company-san-antonio\",\"name\":\"Street Taco Company\",\"image_url\":\"https:\\\\/\\\\/s3-media4.fl.yelpcdn.com\\\\/bphoto\\\\/QZZtAE2By6hTL-Trvjg-dg\\\\/o.jpg\",\"is_closed\":false,\"url\":\"https:\\\\/\\\\/www.yelp.com\\\\/biz\\\\/street-taco-company-san-antonio?adjust_creative=5hTEU0JKX2n1SX6YJ50Ibg&utm_campaign=yelp_api_v3&utm_medium=api_v3_business_search&utm_source=5hTEU0JKX2n1SX6YJ50Ibg\",\"review_count\":51,\"categories\":[{\"alias\":\"tacos\",\"title\":\"Tacos\"}],\"rating\":4.5,\"coordinates\":{\"latitude\":29.5635337,\"longitude\":-98.5882853},\"transactions\":[\"delivery\"],\"price\":null,\"location\":{\"address1\":\"5238 De Zavala Rd\",\"address2\":\"\",\"address3\":null,\"city\":\"San Antonio\",\"zip_code\":\"78249\",\"country\":\"US\",\"state\":\"TX\",\"display_address\":[\"5238 De Zavala Rd\",\"San Antonio, TX 78249\"]},\"phone\":\"\",\"display_phone\":\"\",\"distance\":11594.9020276991}]'"
      ]
     },
     "execution_count": 30,
     "metadata": {},
     "output_type": "execute_result"
    }
   ],
   "source": [
    "## Load saved json file back to dictionary\n",
    "with open('Data/satx_taco_businesses.json') as f:\n",
    "    satx_taco_businesses = json.load(f)\n",
    "satx_taco_businesses"
   ]
  },
  {
   "cell_type": "code",
   "execution_count": 12,
   "id": "6ac9baf4",
   "metadata": {},
   "outputs": [],
   "source": [
    "import pandas as pd"
   ]
  },
  {
   "cell_type": "code",
   "execution_count": 35,
   "id": "93c7ef2a",
   "metadata": {
    "scrolled": true
   },
   "outputs": [
    {
     "data": {
      "text/html": [
       "<div>\n",
       "<style scoped>\n",
       "    .dataframe tbody tr th:only-of-type {\n",
       "        vertical-align: middle;\n",
       "    }\n",
       "\n",
       "    .dataframe tbody tr th {\n",
       "        vertical-align: top;\n",
       "    }\n",
       "\n",
       "    .dataframe thead th {\n",
       "        text-align: right;\n",
       "    }\n",
       "</style>\n",
       "<table border=\"1\" class=\"dataframe\">\n",
       "  <thead>\n",
       "    <tr style=\"text-align: right;\">\n",
       "      <th></th>\n",
       "      <th>id</th>\n",
       "      <th>alias</th>\n",
       "      <th>name</th>\n",
       "      <th>image_url</th>\n",
       "      <th>is_closed</th>\n",
       "      <th>url</th>\n",
       "      <th>review_count</th>\n",
       "      <th>categories</th>\n",
       "      <th>rating</th>\n",
       "      <th>coordinates</th>\n",
       "      <th>transactions</th>\n",
       "      <th>price</th>\n",
       "      <th>location</th>\n",
       "      <th>phone</th>\n",
       "      <th>display_phone</th>\n",
       "      <th>distance</th>\n",
       "    </tr>\n",
       "  </thead>\n",
       "  <tbody>\n",
       "    <tr>\n",
       "      <th>0</th>\n",
       "      <td>fD626-6wEZgfGP2YT3wSIA</td>\n",
       "      <td>taquitos-west-ave-san-antonio</td>\n",
       "      <td>Taquitos West Ave</td>\n",
       "      <td>https://s3-media2.fl.yelpcdn.com/bphoto/yWNgVE...</td>\n",
       "      <td>False</td>\n",
       "      <td>https://www.yelp.com/biz/taquitos-west-ave-san...</td>\n",
       "      <td>755</td>\n",
       "      <td>[{'alias': 'mexican', 'title': 'Mexican'}]</td>\n",
       "      <td>4.5</td>\n",
       "      <td>{'latitude': 29.48637, 'longitude': -98.52573}</td>\n",
       "      <td>[delivery]</td>\n",
       "      <td>$</td>\n",
       "      <td>{'address1': '2818 West Ave', 'address2': None...</td>\n",
       "      <td>+12105259888</td>\n",
       "      <td>(210) 525-9888</td>\n",
       "      <td>1118.116301</td>\n",
       "    </tr>\n",
       "    <tr>\n",
       "      <th>1</th>\n",
       "      <td>j2Ym1bd-tRyM-G5qXZ1yCw</td>\n",
       "      <td>petes-tako-house-san-antonio</td>\n",
       "      <td>Pete's Tako House</td>\n",
       "      <td>https://s3-media1.fl.yelpcdn.com/bphoto/EzV5R6...</td>\n",
       "      <td>False</td>\n",
       "      <td>https://www.yelp.com/biz/petes-tako-house-san-...</td>\n",
       "      <td>1297</td>\n",
       "      <td>[{'alias': 'breakfast_brunch', 'title': 'Break...</td>\n",
       "      <td>4.5</td>\n",
       "      <td>{'latitude': 29.4328575134277, 'longitude': -9...</td>\n",
       "      <td>[delivery, pickup]</td>\n",
       "      <td>$</td>\n",
       "      <td>{'address1': '502 Brooklyn Ave', 'address2': '...</td>\n",
       "      <td>+12102242911</td>\n",
       "      <td>(210) 224-2911</td>\n",
       "      <td>6094.469626</td>\n",
       "    </tr>\n",
       "  </tbody>\n",
       "</table>\n",
       "</div>"
      ],
      "text/plain": [
       "                       id                          alias               name  \\\n",
       "0  fD626-6wEZgfGP2YT3wSIA  taquitos-west-ave-san-antonio  Taquitos West Ave   \n",
       "1  j2Ym1bd-tRyM-G5qXZ1yCw   petes-tako-house-san-antonio  Pete's Tako House   \n",
       "\n",
       "                                           image_url  is_closed  \\\n",
       "0  https://s3-media2.fl.yelpcdn.com/bphoto/yWNgVE...      False   \n",
       "1  https://s3-media1.fl.yelpcdn.com/bphoto/EzV5R6...      False   \n",
       "\n",
       "                                                 url  review_count  \\\n",
       "0  https://www.yelp.com/biz/taquitos-west-ave-san...           755   \n",
       "1  https://www.yelp.com/biz/petes-tako-house-san-...          1297   \n",
       "\n",
       "                                          categories  rating  \\\n",
       "0         [{'alias': 'mexican', 'title': 'Mexican'}]     4.5   \n",
       "1  [{'alias': 'breakfast_brunch', 'title': 'Break...     4.5   \n",
       "\n",
       "                                         coordinates        transactions  \\\n",
       "0     {'latitude': 29.48637, 'longitude': -98.52573}          [delivery]   \n",
       "1  {'latitude': 29.4328575134277, 'longitude': -9...  [delivery, pickup]   \n",
       "\n",
       "  price                                           location         phone  \\\n",
       "0     $  {'address1': '2818 West Ave', 'address2': None...  +12105259888   \n",
       "1     $  {'address1': '502 Brooklyn Ave', 'address2': '...  +12102242911   \n",
       "\n",
       "    display_phone     distance  \n",
       "0  (210) 525-9888  1118.116301  \n",
       "1  (210) 224-2911  6094.469626  "
      ]
     },
     "execution_count": 35,
     "metadata": {},
     "output_type": "execute_result"
    }
   ],
   "source": [
    "biz = pd.DataFrame(search_results['businesses'])\n",
    "biz.head(2)"
   ]
  },
  {
   "cell_type": "code",
   "execution_count": 42,
   "id": "2d2b0ccf",
   "metadata": {},
   "outputs": [],
   "source": [
    "search_results20 = yelp_api.search_query(location='San Antonio, TX',\n",
    "                                       term='Tacos',\n",
    "                                        offset = 20)"
   ]
  },
  {
   "cell_type": "code",
   "execution_count": 43,
   "id": "6d502f34",
   "metadata": {},
   "outputs": [
    {
     "data": {
      "text/html": [
       "<div>\n",
       "<style scoped>\n",
       "    .dataframe tbody tr th:only-of-type {\n",
       "        vertical-align: middle;\n",
       "    }\n",
       "\n",
       "    .dataframe tbody tr th {\n",
       "        vertical-align: top;\n",
       "    }\n",
       "\n",
       "    .dataframe thead th {\n",
       "        text-align: right;\n",
       "    }\n",
       "</style>\n",
       "<table border=\"1\" class=\"dataframe\">\n",
       "  <thead>\n",
       "    <tr style=\"text-align: right;\">\n",
       "      <th></th>\n",
       "      <th>id</th>\n",
       "      <th>alias</th>\n",
       "      <th>name</th>\n",
       "      <th>image_url</th>\n",
       "      <th>is_closed</th>\n",
       "      <th>url</th>\n",
       "      <th>review_count</th>\n",
       "      <th>categories</th>\n",
       "      <th>rating</th>\n",
       "      <th>coordinates</th>\n",
       "      <th>transactions</th>\n",
       "      <th>price</th>\n",
       "      <th>location</th>\n",
       "      <th>phone</th>\n",
       "      <th>display_phone</th>\n",
       "      <th>distance</th>\n",
       "    </tr>\n",
       "  </thead>\n",
       "  <tbody>\n",
       "    <tr>\n",
       "      <th>0</th>\n",
       "      <td>ks_zJeDtKtM8VMmbyWcSUQ</td>\n",
       "      <td>the-taco-place-san-antonio</td>\n",
       "      <td>The Taco Place</td>\n",
       "      <td>https://s3-media2.fl.yelpcdn.com/bphoto/NWtFOa...</td>\n",
       "      <td>False</td>\n",
       "      <td>https://www.yelp.com/biz/the-taco-place-san-an...</td>\n",
       "      <td>62</td>\n",
       "      <td>[{'alias': 'foodtrucks', 'title': 'Food Trucks...</td>\n",
       "      <td>4.5</td>\n",
       "      <td>{'latitude': 29.52202754316744, 'longitude': -...</td>\n",
       "      <td>[]</td>\n",
       "      <td>$</td>\n",
       "      <td>{'address1': '10915 Shaenfield Rd', 'address2'...</td>\n",
       "      <td></td>\n",
       "      <td></td>\n",
       "      <td>19054.160401</td>\n",
       "    </tr>\n",
       "    <tr>\n",
       "      <th>1</th>\n",
       "      <td>zocfjH-GTlxV1Dw4pqBiVw</td>\n",
       "      <td>street-taco-company-san-antonio</td>\n",
       "      <td>Street Taco Company</td>\n",
       "      <td>https://s3-media4.fl.yelpcdn.com/bphoto/QZZtAE...</td>\n",
       "      <td>False</td>\n",
       "      <td>https://www.yelp.com/biz/street-taco-company-s...</td>\n",
       "      <td>51</td>\n",
       "      <td>[{'alias': 'tacos', 'title': 'Tacos'}]</td>\n",
       "      <td>4.5</td>\n",
       "      <td>{'latitude': 29.5635337, 'longitude': -98.5882...</td>\n",
       "      <td>[delivery]</td>\n",
       "      <td>NaN</td>\n",
       "      <td>{'address1': '5238 De Zavala Rd', 'address2': ...</td>\n",
       "      <td></td>\n",
       "      <td></td>\n",
       "      <td>11594.902028</td>\n",
       "    </tr>\n",
       "  </tbody>\n",
       "</table>\n",
       "</div>"
      ],
      "text/plain": [
       "                       id                            alias  \\\n",
       "0  ks_zJeDtKtM8VMmbyWcSUQ       the-taco-place-san-antonio   \n",
       "1  zocfjH-GTlxV1Dw4pqBiVw  street-taco-company-san-antonio   \n",
       "\n",
       "                  name                                          image_url  \\\n",
       "0       The Taco Place  https://s3-media2.fl.yelpcdn.com/bphoto/NWtFOa...   \n",
       "1  Street Taco Company  https://s3-media4.fl.yelpcdn.com/bphoto/QZZtAE...   \n",
       "\n",
       "   is_closed                                                url  review_count  \\\n",
       "0      False  https://www.yelp.com/biz/the-taco-place-san-an...            62   \n",
       "1      False  https://www.yelp.com/biz/street-taco-company-s...            51   \n",
       "\n",
       "                                          categories  rating  \\\n",
       "0  [{'alias': 'foodtrucks', 'title': 'Food Trucks...     4.5   \n",
       "1             [{'alias': 'tacos', 'title': 'Tacos'}]     4.5   \n",
       "\n",
       "                                         coordinates transactions price  \\\n",
       "0  {'latitude': 29.52202754316744, 'longitude': -...           []     $   \n",
       "1  {'latitude': 29.5635337, 'longitude': -98.5882...   [delivery]   NaN   \n",
       "\n",
       "                                            location phone display_phone  \\\n",
       "0  {'address1': '10915 Shaenfield Rd', 'address2'...                       \n",
       "1  {'address1': '5238 De Zavala Rd', 'address2': ...                       \n",
       "\n",
       "       distance  \n",
       "0  19054.160401  \n",
       "1  11594.902028  "
      ]
     },
     "execution_count": 43,
     "metadata": {},
     "output_type": "execute_result"
    }
   ],
   "source": [
    "biz20 = pd.DataFrame(search_results20['businesses'])\n",
    "biz20.head(2)"
   ]
  },
  {
   "cell_type": "code",
   "execution_count": 44,
   "id": "0eec3b25",
   "metadata": {},
   "outputs": [
    {
     "data": {
      "text/html": [
       "<div>\n",
       "<style scoped>\n",
       "    .dataframe tbody tr th:only-of-type {\n",
       "        vertical-align: middle;\n",
       "    }\n",
       "\n",
       "    .dataframe tbody tr th {\n",
       "        vertical-align: top;\n",
       "    }\n",
       "\n",
       "    .dataframe thead th {\n",
       "        text-align: right;\n",
       "    }\n",
       "</style>\n",
       "<table border=\"1\" class=\"dataframe\">\n",
       "  <thead>\n",
       "    <tr style=\"text-align: right;\">\n",
       "      <th></th>\n",
       "      <th>id</th>\n",
       "      <th>alias</th>\n",
       "      <th>name</th>\n",
       "      <th>image_url</th>\n",
       "      <th>is_closed</th>\n",
       "      <th>url</th>\n",
       "      <th>review_count</th>\n",
       "      <th>categories</th>\n",
       "      <th>rating</th>\n",
       "      <th>coordinates</th>\n",
       "      <th>transactions</th>\n",
       "      <th>price</th>\n",
       "      <th>location</th>\n",
       "      <th>phone</th>\n",
       "      <th>display_phone</th>\n",
       "      <th>distance</th>\n",
       "    </tr>\n",
       "  </thead>\n",
       "  <tbody>\n",
       "    <tr>\n",
       "      <th>0</th>\n",
       "      <td>fD626-6wEZgfGP2YT3wSIA</td>\n",
       "      <td>taquitos-west-ave-san-antonio</td>\n",
       "      <td>Taquitos West Ave</td>\n",
       "      <td>https://s3-media2.fl.yelpcdn.com/bphoto/yWNgVE...</td>\n",
       "      <td>False</td>\n",
       "      <td>https://www.yelp.com/biz/taquitos-west-ave-san...</td>\n",
       "      <td>755</td>\n",
       "      <td>[{'alias': 'mexican', 'title': 'Mexican'}]</td>\n",
       "      <td>4.5</td>\n",
       "      <td>{'latitude': 29.48637, 'longitude': -98.52573}</td>\n",
       "      <td>[delivery]</td>\n",
       "      <td>$</td>\n",
       "      <td>{'address1': '2818 West Ave', 'address2': None...</td>\n",
       "      <td>+12105259888</td>\n",
       "      <td>(210) 525-9888</td>\n",
       "      <td>1118.116301</td>\n",
       "    </tr>\n",
       "    <tr>\n",
       "      <th>1</th>\n",
       "      <td>j2Ym1bd-tRyM-G5qXZ1yCw</td>\n",
       "      <td>petes-tako-house-san-antonio</td>\n",
       "      <td>Pete's Tako House</td>\n",
       "      <td>https://s3-media1.fl.yelpcdn.com/bphoto/EzV5R6...</td>\n",
       "      <td>False</td>\n",
       "      <td>https://www.yelp.com/biz/petes-tako-house-san-...</td>\n",
       "      <td>1297</td>\n",
       "      <td>[{'alias': 'breakfast_brunch', 'title': 'Break...</td>\n",
       "      <td>4.5</td>\n",
       "      <td>{'latitude': 29.4328575134277, 'longitude': -9...</td>\n",
       "      <td>[delivery, pickup]</td>\n",
       "      <td>$</td>\n",
       "      <td>{'address1': '502 Brooklyn Ave', 'address2': '...</td>\n",
       "      <td>+12102242911</td>\n",
       "      <td>(210) 224-2911</td>\n",
       "      <td>6094.469626</td>\n",
       "    </tr>\n",
       "    <tr>\n",
       "      <th>2</th>\n",
       "      <td>zulD0Ns_524wMuCAFlXxRA</td>\n",
       "      <td>tlahco-mexican-kitchen-san-antonio</td>\n",
       "      <td>Tlahco Mexican kitchen</td>\n",
       "      <td>https://s3-media4.fl.yelpcdn.com/bphoto/PAEto8...</td>\n",
       "      <td>False</td>\n",
       "      <td>https://www.yelp.com/biz/tlahco-mexican-kitche...</td>\n",
       "      <td>755</td>\n",
       "      <td>[{'alias': 'mexican', 'title': 'Mexican'}]</td>\n",
       "      <td>4.5</td>\n",
       "      <td>{'latitude': 29.5006724654481, 'longitude': -9...</td>\n",
       "      <td>[delivery, pickup]</td>\n",
       "      <td>$$</td>\n",
       "      <td>{'address1': '6702 San Pedro Ave', 'address2':...</td>\n",
       "      <td>+12104550135</td>\n",
       "      <td>(210) 455-0135</td>\n",
       "      <td>2931.033269</td>\n",
       "    </tr>\n",
       "  </tbody>\n",
       "</table>\n",
       "</div>"
      ],
      "text/plain": [
       "                       id                               alias  \\\n",
       "0  fD626-6wEZgfGP2YT3wSIA       taquitos-west-ave-san-antonio   \n",
       "1  j2Ym1bd-tRyM-G5qXZ1yCw        petes-tako-house-san-antonio   \n",
       "2  zulD0Ns_524wMuCAFlXxRA  tlahco-mexican-kitchen-san-antonio   \n",
       "\n",
       "                     name                                          image_url  \\\n",
       "0       Taquitos West Ave  https://s3-media2.fl.yelpcdn.com/bphoto/yWNgVE...   \n",
       "1       Pete's Tako House  https://s3-media1.fl.yelpcdn.com/bphoto/EzV5R6...   \n",
       "2  Tlahco Mexican kitchen  https://s3-media4.fl.yelpcdn.com/bphoto/PAEto8...   \n",
       "\n",
       "   is_closed                                                url  review_count  \\\n",
       "0      False  https://www.yelp.com/biz/taquitos-west-ave-san...           755   \n",
       "1      False  https://www.yelp.com/biz/petes-tako-house-san-...          1297   \n",
       "2      False  https://www.yelp.com/biz/tlahco-mexican-kitche...           755   \n",
       "\n",
       "                                          categories  rating  \\\n",
       "0         [{'alias': 'mexican', 'title': 'Mexican'}]     4.5   \n",
       "1  [{'alias': 'breakfast_brunch', 'title': 'Break...     4.5   \n",
       "2         [{'alias': 'mexican', 'title': 'Mexican'}]     4.5   \n",
       "\n",
       "                                         coordinates        transactions  \\\n",
       "0     {'latitude': 29.48637, 'longitude': -98.52573}          [delivery]   \n",
       "1  {'latitude': 29.4328575134277, 'longitude': -9...  [delivery, pickup]   \n",
       "2  {'latitude': 29.5006724654481, 'longitude': -9...  [delivery, pickup]   \n",
       "\n",
       "  price                                           location         phone  \\\n",
       "0     $  {'address1': '2818 West Ave', 'address2': None...  +12105259888   \n",
       "1     $  {'address1': '502 Brooklyn Ave', 'address2': '...  +12102242911   \n",
       "2    $$  {'address1': '6702 San Pedro Ave', 'address2':...  +12104550135   \n",
       "\n",
       "    display_phone     distance  \n",
       "0  (210) 525-9888  1118.116301  \n",
       "1  (210) 224-2911  6094.469626  \n",
       "2  (210) 455-0135  2931.033269  "
      ]
     },
     "metadata": {},
     "output_type": "display_data"
    },
    {
     "data": {
      "text/html": [
       "<div>\n",
       "<style scoped>\n",
       "    .dataframe tbody tr th:only-of-type {\n",
       "        vertical-align: middle;\n",
       "    }\n",
       "\n",
       "    .dataframe tbody tr th {\n",
       "        vertical-align: top;\n",
       "    }\n",
       "\n",
       "    .dataframe thead th {\n",
       "        text-align: right;\n",
       "    }\n",
       "</style>\n",
       "<table border=\"1\" class=\"dataframe\">\n",
       "  <thead>\n",
       "    <tr style=\"text-align: right;\">\n",
       "      <th></th>\n",
       "      <th>id</th>\n",
       "      <th>alias</th>\n",
       "      <th>name</th>\n",
       "      <th>image_url</th>\n",
       "      <th>is_closed</th>\n",
       "      <th>url</th>\n",
       "      <th>review_count</th>\n",
       "      <th>categories</th>\n",
       "      <th>rating</th>\n",
       "      <th>coordinates</th>\n",
       "      <th>transactions</th>\n",
       "      <th>price</th>\n",
       "      <th>location</th>\n",
       "      <th>phone</th>\n",
       "      <th>display_phone</th>\n",
       "      <th>distance</th>\n",
       "    </tr>\n",
       "  </thead>\n",
       "  <tbody>\n",
       "    <tr>\n",
       "      <th>37</th>\n",
       "      <td>jISbsAvnYBixZosDyt3-Zg</td>\n",
       "      <td>wapo-taco-san-antonio-2</td>\n",
       "      <td>Wapo Taco</td>\n",
       "      <td>https://s3-media4.fl.yelpcdn.com/bphoto/LVxyhG...</td>\n",
       "      <td>False</td>\n",
       "      <td>https://www.yelp.com/biz/wapo-taco-san-antonio...</td>\n",
       "      <td>213</td>\n",
       "      <td>[{'alias': 'mexican', 'title': 'Mexican'}]</td>\n",
       "      <td>4.0</td>\n",
       "      <td>{'latitude': 29.513058, 'longitude': -98.696503}</td>\n",
       "      <td>[pickup, delivery]</td>\n",
       "      <td>$</td>\n",
       "      <td>{'address1': '7907 W Loop 1604 N', 'address2':...</td>\n",
       "      <td>+12104552188</td>\n",
       "      <td>(210) 455-2188</td>\n",
       "      <td>17751.952475</td>\n",
       "    </tr>\n",
       "    <tr>\n",
       "      <th>38</th>\n",
       "      <td>XfSGE1nQhdrvgJkuIHGiGQ</td>\n",
       "      <td>taquitos-mexico-san-antonio-2</td>\n",
       "      <td>Taquitos Mexico</td>\n",
       "      <td>https://s3-media2.fl.yelpcdn.com/bphoto/_fTJc2...</td>\n",
       "      <td>False</td>\n",
       "      <td>https://www.yelp.com/biz/taquitos-mexico-san-a...</td>\n",
       "      <td>49</td>\n",
       "      <td>[{'alias': 'foodtrucks', 'title': 'Food Trucks...</td>\n",
       "      <td>5.0</td>\n",
       "      <td>{'latitude': 29.4820587441317, 'longitude': -9...</td>\n",
       "      <td>[delivery]</td>\n",
       "      <td>$</td>\n",
       "      <td>{'address1': '7491 Grissom Rd', 'address2': No...</td>\n",
       "      <td>+12105484626</td>\n",
       "      <td>(210) 548-4626</td>\n",
       "      <td>11323.863106</td>\n",
       "    </tr>\n",
       "    <tr>\n",
       "      <th>39</th>\n",
       "      <td>CLbzZGsLKcUf4G269KEu_Q</td>\n",
       "      <td>rosarios-comidamex-and-bar-san-antonio-2</td>\n",
       "      <td>Rosario's ComidaMex &amp; Bar</td>\n",
       "      <td>https://s3-media4.fl.yelpcdn.com/bphoto/TXifgw...</td>\n",
       "      <td>False</td>\n",
       "      <td>https://www.yelp.com/biz/rosarios-comidamex-an...</td>\n",
       "      <td>3557</td>\n",
       "      <td>[{'alias': 'mexican', 'title': 'Mexican'}, {'a...</td>\n",
       "      <td>4.0</td>\n",
       "      <td>{'latitude': 29.41725, 'longitude': -98.48987}</td>\n",
       "      <td>[pickup, delivery]</td>\n",
       "      <td>$$</td>\n",
       "      <td>{'address1': '722 S Saint Mary's St', 'address...</td>\n",
       "      <td>+12102231806</td>\n",
       "      <td>(210) 223-1806</td>\n",
       "      <td>7413.233549</td>\n",
       "    </tr>\n",
       "  </tbody>\n",
       "</table>\n",
       "</div>"
      ],
      "text/plain": [
       "                        id                                     alias  \\\n",
       "37  jISbsAvnYBixZosDyt3-Zg                   wapo-taco-san-antonio-2   \n",
       "38  XfSGE1nQhdrvgJkuIHGiGQ             taquitos-mexico-san-antonio-2   \n",
       "39  CLbzZGsLKcUf4G269KEu_Q  rosarios-comidamex-and-bar-san-antonio-2   \n",
       "\n",
       "                         name  \\\n",
       "37                  Wapo Taco   \n",
       "38            Taquitos Mexico   \n",
       "39  Rosario's ComidaMex & Bar   \n",
       "\n",
       "                                            image_url  is_closed  \\\n",
       "37  https://s3-media4.fl.yelpcdn.com/bphoto/LVxyhG...      False   \n",
       "38  https://s3-media2.fl.yelpcdn.com/bphoto/_fTJc2...      False   \n",
       "39  https://s3-media4.fl.yelpcdn.com/bphoto/TXifgw...      False   \n",
       "\n",
       "                                                  url  review_count  \\\n",
       "37  https://www.yelp.com/biz/wapo-taco-san-antonio...           213   \n",
       "38  https://www.yelp.com/biz/taquitos-mexico-san-a...            49   \n",
       "39  https://www.yelp.com/biz/rosarios-comidamex-an...          3557   \n",
       "\n",
       "                                           categories  rating  \\\n",
       "37         [{'alias': 'mexican', 'title': 'Mexican'}]     4.0   \n",
       "38  [{'alias': 'foodtrucks', 'title': 'Food Trucks...     5.0   \n",
       "39  [{'alias': 'mexican', 'title': 'Mexican'}, {'a...     4.0   \n",
       "\n",
       "                                          coordinates        transactions  \\\n",
       "37   {'latitude': 29.513058, 'longitude': -98.696503}  [pickup, delivery]   \n",
       "38  {'latitude': 29.4820587441317, 'longitude': -9...          [delivery]   \n",
       "39     {'latitude': 29.41725, 'longitude': -98.48987}  [pickup, delivery]   \n",
       "\n",
       "   price                                           location         phone  \\\n",
       "37     $  {'address1': '7907 W Loop 1604 N', 'address2':...  +12104552188   \n",
       "38     $  {'address1': '7491 Grissom Rd', 'address2': No...  +12105484626   \n",
       "39    $$  {'address1': '722 S Saint Mary's St', 'address...  +12102231806   \n",
       "\n",
       "     display_phone      distance  \n",
       "37  (210) 455-2188  17751.952475  \n",
       "38  (210) 548-4626  11323.863106  \n",
       "39  (210) 223-1806   7413.233549  "
      ]
     },
     "metadata": {},
     "output_type": "display_data"
    }
   ],
   "source": [
    "## concatenate the previous results and new results. \n",
    "businesses = pd.concat([biz, biz20],\n",
    "                      ignore_index=True)\n",
    "display(businesses.head(3), businesses.tail(3))"
   ]
  },
  {
   "cell_type": "code",
   "execution_count": null,
   "id": "c9d0d60e",
   "metadata": {},
   "outputs": [],
   "source": []
  }
 ],
 "metadata": {
  "kernelspec": {
   "display_name": "Python (dojo-env)",
   "language": "python",
   "name": "dojo-env"
  },
  "language_info": {
   "codemirror_mode": {
    "name": "ipython",
    "version": 3
   },
   "file_extension": ".py",
   "mimetype": "text/x-python",
   "name": "python",
   "nbconvert_exporter": "python",
   "pygments_lexer": "ipython3",
   "version": "3.9.15"
  },
  "toc": {
   "base_numbering": 1,
   "nav_menu": {},
   "number_sections": false,
   "sideBar": true,
   "skip_h1_title": false,
   "title_cell": "Table of Contents",
   "title_sidebar": "Contents",
   "toc_cell": false,
   "toc_position": {},
   "toc_section_display": true,
   "toc_window_display": false
  },
  "varInspector": {
   "cols": {
    "lenName": 16,
    "lenType": 16,
    "lenVar": 40
   },
   "kernels_config": {
    "python": {
     "delete_cmd_postfix": "",
     "delete_cmd_prefix": "del ",
     "library": "var_list.py",
     "varRefreshCmd": "print(var_dic_list())"
    },
    "r": {
     "delete_cmd_postfix": ") ",
     "delete_cmd_prefix": "rm(",
     "library": "var_list.r",
     "varRefreshCmd": "cat(var_dic_list()) "
    }
   },
   "types_to_exclude": [
    "module",
    "function",
    "builtin_function_or_method",
    "instance",
    "_Feature"
   ],
   "window_display": false
  }
 },
 "nbformat": 4,
 "nbformat_minor": 5
}
